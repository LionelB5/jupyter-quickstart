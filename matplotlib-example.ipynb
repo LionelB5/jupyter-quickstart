{
 "cells": [
  {
   "cell_type": "code",
   "execution_count": null,
   "id": "82304385",
   "metadata": {},
   "outputs": [],
   "source": [
    "import numpy as np\n",
    "import matplotlib.pyplot as plt\n",
    "import pandas as pd"
   ]
  },
  {
   "cell_type": "markdown",
   "id": "e16f2e50",
   "metadata": {},
   "source": [
    "# Example 1"
   ]
  },
  {
   "cell_type": "code",
   "execution_count": null,
   "id": "da25bb89",
   "metadata": {},
   "outputs": [],
   "source": [
    "np.random.seed(1)"
   ]
  },
  {
   "cell_type": "code",
   "execution_count": null,
   "id": "543fd279",
   "metadata": {},
   "outputs": [],
   "source": [
    "numbers = [1, 10, 50, 100]"
   ]
  },
  {
   "cell_type": "code",
   "execution_count": null,
   "id": "5bd7e5c6",
   "metadata": {},
   "outputs": [],
   "source": [
    "means = []\n",
    "for number in numbers:\n",
    "    x = [np.mean(np.random.randint(-40, 40, number)) for _ in range(1000)]\n",
    "    means.append(x)"
   ]
  },
  {
   "cell_type": "code",
   "execution_count": null,
   "id": "0e6d118e",
   "metadata": {},
   "outputs": [],
   "source": [
    "k = 0\n",
    "fig, ax = plt.subplots(2, 2, figsize=(8, 8))\n",
    "for i in range(0, 2):\n",
    "    for j in range(0, 2):\n",
    "        ax[i, j].hist(means[k], 10, density=True)\n",
    "        ax[i, j].set_title(label=numbers[k])\n",
    "        k = k + 1"
   ]
  },
  {
   "cell_type": "markdown",
   "id": "72489c02",
   "metadata": {},
   "source": [
    "# Example 2\n",
    "\n",
    "**https://jupyter.org/try-jupyter/retro/notebooks/?path=notebooks/Intro.ipynb**"
   ]
  },
  {
   "cell_type": "code",
   "execution_count": null,
   "id": "146479a9",
   "metadata": {},
   "outputs": [],
   "source": [
    "# Generate 100 random data points along 3 dimensions\n",
    "x, y, scale = np.random.randn(3, 100)\n",
    "fig, ax = plt.subplots()\n",
    "\n",
    "# Map each onto a scatterplot we'll create with Matplotlib\n",
    "ax.scatter(x=x, y=y, c=scale, s=np.abs(scale)*500)\n",
    "ax.set(title=\"Some random data!\")"
   ]
  },
  {
   "cell_type": "markdown",
   "id": "8ff25c73",
   "metadata": {},
   "source": [
    "# Example 3 (Pandas + Numpy)\n",
    "\n",
    "**https://pandas.pydata.org/pandas-docs/version/1.4/user_guide/visualization.html#basic-plotting-plot**"
   ]
  },
  {
   "cell_type": "code",
   "execution_count": null,
   "id": "986b531d",
   "metadata": {},
   "outputs": [],
   "source": [
    "timeseries = pd.Series(np.random.randn(1000), index=pd.date_range(\"1/1/2000\", periods=1000))\n",
    "timeseries_cumulative_sum = timeseries.cumsum()"
   ]
  },
  {
   "cell_type": "code",
   "execution_count": null,
   "id": "3969991a",
   "metadata": {},
   "outputs": [],
   "source": [
    "timeseries_cumulative_sum.plot()"
   ]
  },
  {
   "cell_type": "markdown",
   "id": "01ea2546",
   "metadata": {},
   "source": [
    "# Example 4 (Pandas + Matplotlib)\n",
    "\n",
    "**https://ourcodingclub.github.io/tutorials/pandas-python-intro/**"
   ]
  },
  {
   "cell_type": "code",
   "execution_count": null,
   "id": "178bfcc5",
   "metadata": {},
   "outputs": [],
   "source": [
    "with open(\"sample_data/scottish_hills.csv\") as file:\n",
    "    dataframe = pd.read_csv(file)"
   ]
  },
  {
   "cell_type": "code",
   "execution_count": null,
   "id": "05dc40cf",
   "metadata": {},
   "outputs": [],
   "source": [
    "# View the dataframe\n",
    "dataframe"
   ]
  },
  {
   "cell_type": "code",
   "execution_count": null,
   "id": "3cd15463",
   "metadata": {},
   "outputs": [],
   "source": [
    "x = dataframe.Height\n",
    "y = dataframe.Latitude\n",
    "plt.scatter(x, y)"
   ]
  }
 ],
 "metadata": {
  "kernelspec": {
   "display_name": "Python 3 (ipykernel)",
   "language": "python",
   "name": "python3"
  },
  "language_info": {
   "codemirror_mode": {
    "name": "ipython",
    "version": 3
   },
   "file_extension": ".py",
   "mimetype": "text/x-python",
   "name": "python",
   "nbconvert_exporter": "python",
   "pygments_lexer": "ipython3",
   "version": "3.9.1"
  },
  "vscode": {
   "interpreter": {
    "hash": "151858dd5896fa37967c6b0b5b05a0f212882f574406151411a76ba1a1c7067d"
   }
  }
 },
 "nbformat": 4,
 "nbformat_minor": 5
}
