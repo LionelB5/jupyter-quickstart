{
 "cells": [
  {
   "cell_type": "code",
   "execution_count": null,
   "id": "7d2f89a4",
   "metadata": {},
   "outputs": [],
   "source": [
    "import pandas as pd\n",
    "import numpy as np"
   ]
  },
  {
   "cell_type": "markdown",
   "id": "700595be",
   "metadata": {},
   "source": [
    "## Load persons data from CSV file into a Pandas DataFrame"
   ]
  },
  {
   "cell_type": "code",
   "execution_count": null,
   "id": "b84405ae",
   "metadata": {},
   "outputs": [],
   "source": [
    "with open(\"sample_data/people.csv\", \"r\") as file:\n",
    "    people_df = pd.read_csv(file)\n",
    "\n",
    "# Rename the 'first' & 'last' columns as these are Pandas reserved keywords\n",
    "people_df = people_df.rename(columns={\"first\": \"firstname\", \"last\": \"lastname\"})"
   ]
  },
  {
   "cell_type": "markdown",
   "id": "3e58aaa9",
   "metadata": {},
   "source": [
    "## Pandas examples"
   ]
  },
  {
   "cell_type": "code",
   "execution_count": null,
   "id": "bb6af957",
   "metadata": {
    "scrolled": true
   },
   "outputs": [],
   "source": [
    "# View the entire dataframe\n",
    "people_df"
   ]
  },
  {
   "cell_type": "code",
   "execution_count": null,
   "id": "a854cf87",
   "metadata": {},
   "outputs": [],
   "source": [
    "# View the number of people with each title\n",
    "people_df.title.value_counts()"
   ]
  },
  {
   "cell_type": "code",
   "execution_count": null,
   "id": "749f26dd",
   "metadata": {},
   "outputs": [],
   "source": [
    "# Only view people with a title of 'Professor'\n",
    "people_df[people_df.title == \"Professor\"]"
   ]
  },
  {
   "cell_type": "code",
   "execution_count": null,
   "id": "a161f978",
   "metadata": {},
   "outputs": [],
   "source": [
    "# Only view people with a title of 'Professor' and a first name beginning with 'A'\n",
    "people_df[(people_df.title == \"Professor\") & (people_df.firstname.str.startswith(\"A\"))]"
   ]
  },
  {
   "cell_type": "code",
   "execution_count": null,
   "id": "98087515",
   "metadata": {},
   "outputs": [],
   "source": [
    "# add a new column to the dataframe and populate it with random numbers\n",
    "rng = np.random.default_rng()\n",
    "people_df[\"age\"] = rng.integers(20, 100, len(people_df))\n",
    "people_df"
   ]
  },
  {
   "cell_type": "code",
   "execution_count": null,
   "id": "72b4ce57",
   "metadata": {},
   "outputs": [],
   "source": [
    "# add a new column to the dataframe based on the value of other columns\n",
    "people_df[\"name_with_title\"] = (\n",
    "    people_df[\"title\"] + \" \" + people_df[\"firstname\"] + \" \" + people_df[\"lastname\"]\n",
    ")\n",
    "people_df"
   ]
  },
  {
   "cell_type": "code",
   "execution_count": null,
   "id": "e1424ef5",
   "metadata": {},
   "outputs": [],
   "source": [
    "# construct a complex condition using masks\n",
    "is_professor = people_df[\"title\"] == \"Professor\"\n",
    "is_curator = people_df[\"title\"] == \"Curator\"\n",
    "has_middle_name = ~people_df[\"middle\"].isna()\n",
    "\n",
    "# select all people who are professors and have a middle name OR people who\n",
    "# are a curator and have no middle name\n",
    "people_df[(is_professor & has_middle_name) | (is_curator & ~has_middle_name)]"
   ]
  },
  {
   "cell_type": "markdown",
   "id": "60a3e6ec",
   "metadata": {},
   "source": [
    "## Simple pivot table\n",
    "\n",
    "**https://www.machinelearningplus.com/pandas/pandas-pivot-table-in-python/**"
   ]
  },
  {
   "cell_type": "code",
   "execution_count": null,
   "id": "0937fb7e",
   "metadata": {},
   "outputs": [],
   "source": [
    "sample_df = pd.DataFrame(\n",
    "    {\n",
    "        \"First Name\": [\"Aryan\", \"Rohan\", \"Riya\", \"Yash\", \"Siddhant\"],\n",
    "        \"Last Name\": [\"Singh\", \"Agarwal\", \"Shah\", \"Bhatia\", \"Khanna\"],\n",
    "        \"Type\": [\n",
    "            \"Full-time Employee\",\n",
    "            \"Intern\",\n",
    "            \"Full-time Employee\",\n",
    "            \"Part-time Employee\",\n",
    "            \"Full-time Employee\",\n",
    "        ],\n",
    "        \"Department\": [\"Administration\", \"Technical\", \"Administration\", \"Technical\", \"Management\"],\n",
    "        \"Salary\": [20000, 5000, 10000, 10000, 20000],\n",
    "    }\n",
    ")"
   ]
  },
  {
   "cell_type": "code",
   "execution_count": null,
   "id": "7e7f7d67",
   "metadata": {},
   "outputs": [],
   "source": [
    "sample_df"
   ]
  },
  {
   "cell_type": "code",
   "execution_count": null,
   "id": "2f22b0c8",
   "metadata": {},
   "outputs": [],
   "source": [
    "# Create a pivot table which shows the average salary of each type of employee for each department\n",
    "pivot_table = pd.pivot_table(\n",
    "    data=sample_df, index=[\"Type\"], columns=[\"Department\"], values=\"Salary\", aggfunc=\"mean\"\n",
    ")"
   ]
  },
  {
   "cell_type": "code",
   "execution_count": null,
   "id": "44f92891",
   "metadata": {},
   "outputs": [],
   "source": [
    "pivot_table"
   ]
  }
 ],
 "metadata": {
  "kernelspec": {
   "display_name": "Python 3 (ipykernel)",
   "language": "python",
   "name": "python3"
  },
  "language_info": {
   "codemirror_mode": {
    "name": "ipython",
    "version": 3
   },
   "file_extension": ".py",
   "mimetype": "text/x-python",
   "name": "python",
   "nbconvert_exporter": "python",
   "pygments_lexer": "ipython3",
   "version": "3.9.1"
  }
 },
 "nbformat": 4,
 "nbformat_minor": 5
}
